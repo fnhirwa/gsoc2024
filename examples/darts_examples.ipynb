{
 "cells": [
  {
   "cell_type": "markdown",
   "metadata": {
    "vscode": {
     "languageId": "raw"
    }
   },
   "source": [
    "[![Open In Colab](https://colab.research.google.com/assets/colab-badge.svg)](https://colab.research.google.com/github/fnhirwa/gsoc2024/blob/main/examples/darts_examples.ipynb)"
   ]
  },
  {
   "cell_type": "markdown",
   "metadata": {},
   "source": [
    "# Darts Regression models for time series forecasting using sktime\n",
    "\n",
    "This notebook demonstrates how to use the `sktime` interface to use the `darts` regression models for time series forecasting. We will explore with the current adaptation of the `darts` models to the `sktime` interface and how to use them for forecasting."
   ]
  },
  {
   "cell_type": "markdown",
   "metadata": {},
   "source": [
    "## Outline\n",
    "\n",
    "1. [Installing the required libraries](#Installing-the-required-libraries)\n",
    "2. [Loading the data](#Loading-the-data)\n",
    "3. [Fiting the model](#Fiting-the-model)\n",
    "4. [Making predictions](#Making-predictions)\n",
    "5. [Conclusion](#Conclusion)"
   ]
  },
  {
   "cell_type": "code",
   "execution_count": null,
   "metadata": {},
   "outputs": [],
   "source": []
  }
 ],
 "metadata": {
  "kernelspec": {
   "display_name": "rep",
   "language": "python",
   "name": "python3"
  },
  "language_info": {
   "codemirror_mode": {
    "name": "ipython",
    "version": 3
   },
   "file_extension": ".py",
   "mimetype": "text/x-python",
   "name": "python",
   "nbconvert_exporter": "python",
   "pygments_lexer": "ipython3",
   "version": "3.9.19"
  }
 },
 "nbformat": 4,
 "nbformat_minor": 2
}
